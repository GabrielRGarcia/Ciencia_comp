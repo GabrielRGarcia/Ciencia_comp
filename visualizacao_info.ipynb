{
  "nbformat": 4,
  "nbformat_minor": 0,
  "metadata": {
    "colab": {
      "provenance": [],
      "authorship_tag": "ABX9TyP2Bi6iB//bgRws5gWYlsR4",
      "include_colab_link": true
    },
    "kernelspec": {
      "name": "python3",
      "display_name": "Python 3"
    },
    "language_info": {
      "name": "python"
    }
  },
  "cells": [
    {
      "cell_type": "markdown",
      "metadata": {
        "id": "view-in-github",
        "colab_type": "text"
      },
      "source": [
        "<a href=\"https://colab.research.google.com/github/GabrielRGarcia/Ciencia_comp/blob/main/visualizacao_info.ipynb\" target=\"_parent\"><img src=\"https://colab.research.google.com/assets/colab-badge.svg\" alt=\"Open In Colab\"/></a>"
      ]
    },
    {
      "cell_type": "markdown",
      "source": [
        "### **Atividade - World Energy Consumption (Consumo Mundial de Energia)**\n",
        "\n",
        "**Nome:** Gabriel Rocha Garcia\n",
        "\n",
        "**RGM:** 31855920"
      ],
      "metadata": {
        "id": "aFYh6-L1t1nv"
      }
    },
    {
      "cell_type": "markdown",
      "source": [
        "###Importando Bibliotecas e dados Necessarios\n",
        "Bibliotecas utilizadas na análise e visualização de dados em Python"
      ],
      "metadata": {
        "id": "YYgCi34oXgm8"
      }
    },
    {
      "cell_type": "code",
      "execution_count": 207,
      "metadata": {
        "id": "1x9-16MJtL-x"
      },
      "outputs": [],
      "source": [
        "#matplotlib.pyplot: É uma biblioteca do Matplotlib, uma das bibliotecas de visualização de dados mais populares em Python. O módulo pyplot fornece uma interface semelhante ao MATLAB para a criação de gráficos. Ele é usado para criar e personalizar gráficos, como gráficos de linhas, barras, dispersão, pizza, entre outros.\n",
        "import matplotlib.pyplot as plt\n",
        "\n",
        "#numpy: É uma biblioteca fundamental para computação científica em Python. Ela fornece suporte para arrays multidimensionais, funções matemáticas de alto desempenho, operações de álgebra linear e muito mais. O numpy é frequentemente utilizado para manipulação e processamento eficiente de dados numéricos.\n",
        "import numpy as np\n",
        "\n",
        "#pandas: É uma biblioteca popular para análise de dados em Python. Ela fornece estruturas de dados de alto desempenho, como o DataFrame, que é uma estrutura tabular que permite manipular, limpar, transformar e analisar dados de maneira conveniente. O pandas também oferece várias funções para leitura e escrita de dados em diferentes formatos, como CSV, Excel, SQL, entre outros.\n",
        "import pandas as pd\n",
        "\n",
        "#re: É um módulo do Python que fornece suporte para operações com expressões regulares. O re é usado para manipulação de strings, realizando pesquisas, substituições e extrações com base em padrões definidos usando expressões regulares. No código fornecido, o re é importado, mas a importação é feita usando o from com um espaço vazio, o que significa que nenhuma funcionalidade específica do módulo está sendo usada no código atual.\n",
        "from re import S\n",
        "\n",
        "#Biblioteca para Grafico em hierarquia de blocos (Treemap)\n",
        "import plotly.express as px\n",
        "\n",
        "import plotly as py\n",
        "import plotly.graph_objects as go\n"
      ]
    },
    {
      "cell_type": "markdown",
      "source": [
        "Importação de dataset \"World_Energy_Consumption.csv\""
      ],
      "metadata": {
        "id": "wjLqp4hOYeJ9"
      }
    },
    {
      "cell_type": "code",
      "source": [
        "#Dataset utilizado no Gráfico 01\n",
        "dados = pd.read_csv(\"World_Energy_Consumption.csv\")\n",
        "#Dataset utilizado no Gráfico 02, 03 e 04\n",
        "dados2 = pd.read_csv(\"World_Energy_Consumption.csv\")"
      ],
      "metadata": {
        "id": "YBpPgu10wDid"
      },
      "execution_count": null,
      "outputs": []
    },
    {
      "cell_type": "markdown",
      "source": [
        "### Gráfico de Barra (01)\n",
        "\n",
        "\n",
        "Este código cria um gráfico de barras para visualizar a geração de eletricidade a partir de energia nuclear ao longo dos anos. Vou explicar cada linha do código:"
      ],
      "metadata": {
        "id": "5fbO8-_BCE_f"
      }
    },
    {
      "cell_type": "code",
      "source": [
        "  #define o tamanho da figura em que o gráfico será plotado. Neste caso, a figura tem uma largura de 15 polegadas e uma altura de 5 polegadas.\n",
        "plt.figure(figsize=(15,5))\n",
        "\n",
        "#cria o gráfico de barras. Os valores do eixo x são obtidos da coluna 'year' do dataframe dados, e os valores do eixo y são obtidos da coluna 'nuclear_electricity' do mesmo dataframe. Cada barra representa a geração de eletricidade a partir de energia nuclear para um determinado ano\n",
        "plt.bar(dados['year'],dados['nuclear_electricity']);\n",
        "\n",
        "# define o título do gráfico como \"Geração de Eletricidade a Partir de Energia Nuclear ao Longo dos Anos\".\n",
        "plt.title('Geração de Eletricidade a Partir de Energia Nuclear ao Longo dos Anos')\n",
        "\n",
        "#define o rótulo do eixo y como \"Geração de Eletricidade por Energia Nuclear (Terawatt-hora)\". \n",
        "plt.ylabel('Geração de Eletricidade por Energia Nuclear( Terawatt-hora)')\n",
        "\n",
        "#define o rótulo do eixo x como \"Data (Ano)\". Isso indica que o eixo x representa os anos em que a geração de eletricidade foi medida.\n",
        "plt.xlabel('Data (Ano)')\n",
        "\n",
        "# adiciona uma grade ao gráfico, o que facilita a leitura das barras e a interpretação dos valores.\n",
        "plt.grid();"
      ],
      "metadata": {
        "id": "J_-804mW3FHN"
      },
      "execution_count": null,
      "outputs": []
    },
    {
      "cell_type": "markdown",
      "source": [
        "### Gráfico  em Linhas (02)\n",
        "Este código realiza algumas operações de análise e visualização de dados relacionados à distribuição de energia no Brasil ao longo dos anos. Vou explicar cada parte do código passo a passo:"
      ],
      "metadata": {
        "id": "Tip1eG23Hu80"
      }
    },
    {
      "cell_type": "code",
      "source": [
        "# A primeira linha define uma lista chamada energias que contém os tipos de energia considerados: carvão, óleo, gás, hidroelétrica, nuclear, eólica e solar.\n",
        "energias=['coal_electricity','oil_electricity','gas_electricity','hydro_electricity','nuclear_electricity','wind_electricity','solar_electricity']\n",
        "\n",
        "#A próxima linha adiciona uma nova coluna chamada 'total' ao dataframe dados2, que é a soma das colunas correspondentes aos tipos de energia presentes na lista energias. O parâmetro axis=1 indica que a soma deve ser feita ao longo das colunas.\n",
        "dados2['total']=dados2[energias].sum(axis=1)\n",
        "\n",
        "#Em seguida, é criado um novo dataframe chamado dados2_Electricity, que contém apenas as colunas 'year' (ano) e 'country' (país) do dataframe dados2.\n",
        "dados2_Electricity=dados2[['year','country']]\n",
        "\n",
        "#Um loop é iniciado para cada tipo de energia em energias. Para cada iteração do loop, é adicionada uma nova coluna ao dataframe dados2_Electricity com o nome do tipo de energia, e o valor de cada célula é calculado como a porcentagem correspondente daquele tipo de energia em relação à coluna 'total'. A função round é usada para arredondar os valores para 4 casas decimais.\n",
        "for i in energias:\n",
        "    dados2_Electricity[f\"{i}\"]=round(100*(dados2[i]/dados2['total']),4)\n",
        "\n",
        "#Após o loop, o código plota um gráfico com duas subtramas usando a biblioteca matplotlib. A figura resultante tem uma largura de 15 polegadas e altura de 5 polegadas, e é dividida em duas subtramas na horizontal, com uma proporção de largura de 4 para 1.\n",
        "fig, ax = plt.subplots(1, 2, figsize=(15,5),gridspec_kw={'width_ratios':[4,1]})\n",
        "\n",
        "#O dataframe dados2_Electricity é filtrado para incluir apenas as linhas em que o país é igual a 'Brazil', e em seguida é feito um agrupamento por ano, calculando a média das colunas para cada ano.\n",
        "chart_dados2=dados2_Electricity[dados2_Electricity['country']=='Brazil'].groupby('year').mean()\n",
        "\n",
        "#O gráfico é plotado na primeira subtrama (ax[0]) usando o método plot. Cada linha no gráfico representa uma coluna do dataframe chart_dados2 (correspondendo aos tipos de energia). A legenda é adicionada automaticamente com base nos nomes das colunas.\n",
        "ax[0].plot(chart_dados2,label=chart_dados2.columns)\n",
        "\n",
        "#O título da primeira subtrama é definido como \"Distribuição de Energia no Brasil (%)\".\n",
        "ax[0].set_title(\" Distribuição de Energia no Brasil (%)\")\n",
        "\n",
        "#A legenda é exibida usando o método legend().\n",
        "ax[0].legend()\n",
        "\n",
        "#A segunda subtrama (ax[1]) é desativada com o comando ax[1].axis('off'), o que significa que não será mostrada nenhuma informação nessa subtrama.\n",
        "ax[1].axis('off')\n",
        "\n",
        "#Finalmente, o gráfico é exibido na tela usando o método plt.show().\n",
        "plt.show();"
      ],
      "metadata": {
        "id": "TGERRbPoEiA2"
      },
      "execution_count": null,
      "outputs": []
    },
    {
      "cell_type": "markdown",
      "source": [
        "### Gráfico de Setores (03)\n",
        "Este código cria um gráfico de pizza (ou gráfico de setores) para visualizar a distribuição de energia em dois anos específicos (1990 e 2020). Vou explicar o código passo a passo:"
      ],
      "metadata": {
        "id": "YZSPm0H8S_l2"
      }
    },
    {
      "cell_type": "code",
      "source": [
        "#A primeira linha define uma lista chamada years que contém os anos de interesse: 1990 e 2020.\n",
        "years=[1990,2020]\n",
        "\n",
        "#A variável count é inicializada com o valor 0. Essa variável será usada para controlar a posição das subtramas no gráfico final.\n",
        "count=0\n",
        "\n",
        "#A função plt.subplots é chamada para criar uma figura com duas subtramas na mesma linha. A figura resultante tem uma largura de 15 polegadas e altura de 4 polegadas. Os objetos fig2 e ay são retornados e representam a figura e as subtramas, respectivamente.\n",
        "fig2,ay =  plt.subplots(1, 2, figsize=(18, 7))\n",
        "\n",
        "#Um loop é iniciado para cada ano em years. Para cada iteração do loop, o código executa as seguintes etapas:\n",
        "for y in years:\n",
        "    #a. O dataframe chart_dados2 é filtrado para incluir apenas as linhas em que o índice (ano) é igual ao ano atual da iteração (y).\n",
        "    chart_dados2_pie_1=chart_dados2[(chart_dados2.index.values==y)]\n",
        "    #b. Outro loop é iniciado para cada coluna em chart_dados2_pie_1.columns.\n",
        "    for i in chart_dados2_pie_1.columns:\n",
        "        #c. Para cada coluna, é verificado se o valor da primeira linha (índice 0) e coluna atual é menor que 1. Se for menor, isso indica que a porcentagem correspondente dessa energia é inferior a 1% e não será incluída no gráfico de pizza.\n",
        "        if chart_dados2_pie_1.iloc[0][i]<1:\n",
        "            #d. Se a condição for verdadeira, a coluna é removida do dataframe chart_dados2_pie_1 usando o método drop.\n",
        "            chart_dados2_pie_1.drop(columns=[i],axis=1,inplace=True)\n",
        "    #e. O gráfico de pizza é plotado na subtrama atual (ay[count]). Os valores para o gráfico de pizza são obtidos da primeira linha (índice 0) do dataframe chart_dados2_pie_1. Os rótulos das fatias do gráfico são definidos como as colunas do dataframe chart_dados2_pie_1. E formata para exibir a porcentagem de cada energia, definindo seu tamanho.\n",
        "    ay[count].pie(chart_dados2_pie_1.iloc[0].values,labels=chart_dados2_pie_1.columns, autopct='%1.1f%%',textprops={'fontsize': 10})\n",
        "    #f. O título da subtrama é definido como o ano atual da iteração (y) seguido de \"Distribuição de Energia\".\n",
        "    ay[count].set_title(f\"{int(y)} Distribuição de Energia \")\n",
        "    #g. A variável count é incrementada em 1 para avançar para a próxima subtrama.\n",
        "    count=count+1\n",
        "    \n",
        "#Após o loop, o gráfico final é exibido na tela usando o método plt.show().\n",
        "plt.show();"
      ],
      "metadata": {
        "id": "0o17AUsfM4Hc"
      },
      "execution_count": null,
      "outputs": []
    },
    {
      "cell_type": "markdown",
      "source": [
        "###Gráfico em Treemap (04)\n",
        "Visualização hierarquica da distribuição de valores, onde os retângulos são usados para representar as categorias, com tamanhos proporcionais aos valores associados a elas. Nesse caso específico, o treemap mostrará a distribuição da energia solar per capita por país."
      ],
      "metadata": {
        "id": "lDRGxAFttPS_"
      }
    },
    {
      "cell_type": "code",
      "source": [
        "# criando um gráfico de treemap usando a função treemap do Plotly Express (px). Os principais parâmetros passados são:\n",
        "#dados2: É o dataframe que contém os dados que você deseja visualizar no gráfico de treemap.\n",
        "#path=[dados2['country']]: Especifica a coluna 'country' como o caminho hierárquico para a construção do treemap. Isso significa que cada nó do treemap será representado por um país.\n",
        "#values=dados2['solar_energy_per_capita']: Especifica a coluna 'solar_energy_per_capita' como os valores associados a cada nó do treemap. Esses valores determinarão o tamanho relativo das áreas nos retângulos do treemap.\n",
        "\n",
        "flg = px.treemap(dados2, path=[dados2['country']], values=dados2['solar_energy_per_capita'])\n",
        "flg.show();"
      ],
      "metadata": {
        "id": "3DjQZhSOsz7N"
      },
      "execution_count": null,
      "outputs": []
    },
    {
      "cell_type": "markdown",
      "source": [
        "###Gráfico em figura de mapa (05)\n",
        "Cria um mapa coroplético interativo usando as bibliotecas Plotly e Plotly Express. O mapa coroplético representa visualmente a distribuição da energia solar per capita em diferentes países, usando cores para indicar níveis ou intensidades diferentes."
      ],
      "metadata": {
        "id": "FVxZK5u6x-1p"
      }
    },
    {
      "cell_type": "code",
      "source": [
        "#data = dict(...): criando um dicionário chamado data para armazenar as configurações do mapa coroplético. \n",
        "#type: Define o tipo de gráfico como 'choropleth', indicando que será um mapa coroplético.\n",
        "#locations: Especifica as localizações no mapa, que parecem ser os países únicos da coluna 'country' do dataframe dados2.\n",
        "#locationmode: Define o modo de localização como 'country names', indicando que as localizações são nomeadas como países.\n",
        "#colorscale: Define a escala de cores utilizada no mapa coroplético. Neste caso, é uma lista de cores que varia de 'amarelo' a 'laranja' a 'vermelho'.\n",
        "#z: Especifica os valores associados a cada localização no mapa coroplético, que parecem ser os valores da coluna 'solar_energy_per_capita' do dataframe dados2.\n",
        "\n",
        "data = dict(\n",
        "    type= 'choropleth',\n",
        "    locations = dados2['country'],\n",
        "    locationmode = 'country names',\n",
        "    colorscale = ['yellow','orange', 'red'],\n",
        "    z = dados2['solar_energy_per_capita'])\n",
        "\n",
        "#criando um objeto Figure do Plotly usando a função go.Figure. O argumento data é uma lista que contém o dicionário data definido anteriormente. Isso cria um objeto Figure com as configurações do mapa coroplético.\n",
        "map = go.Figure(data=[data])\n",
        "\n",
        "#exibe o mapa coroplético usando o método show() do objeto Figure. \n",
        "map.show()"
      ],
      "metadata": {
        "id": "OUR5AOilx_Ec"
      },
      "execution_count": null,
      "outputs": []
    }
  ]
}